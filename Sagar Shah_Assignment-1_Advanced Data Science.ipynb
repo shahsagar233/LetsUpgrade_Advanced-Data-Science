{
 "cells": [
  {
   "cell_type": "markdown",
   "metadata": {},
   "source": [
    "# Name: Sagar Shah\n",
    "# Advanced Data Science Assignment - 1\n",
    "# Email-id: shahsagar233@gmail.com"
   ]
  },
  {
   "cell_type": "markdown",
   "metadata": {},
   "source": [
    "# 1. Eigenvalues and Eigenvectors of an array"
   ]
  },
  {
   "cell_type": "code",
   "execution_count": 4,
   "metadata": {},
   "outputs": [
    {
     "name": "stdout",
     "output_type": "stream",
     "text": [
      "[[4 1 7 7]\n",
      " [4 3 0 2]\n",
      " [8 6 2 6]\n",
      " [6 0 5 1]]\n",
      "Printing the Eigen values of the array:\n",
      " [16.49820238 -4.21027505 -2.         -0.28792734]\n",
      "Printing the Eigen vectors of the array:\n",
      " [[-0.60862456 -0.60220205 -0.34188173  0.34723657]\n",
      " [-0.24476373  0.11657982  0.45584231 -0.66772173]\n",
      " [-0.61702099 -0.09445144  0.68376346 -0.5205519 ]\n",
      " [-0.43468605  0.78411782 -0.45584231  0.40323713]]\n"
     ]
    }
   ],
   "source": [
    "# Function: To find the Eigenvalues and Eigenvectors of a square matrix\n",
    "# Syntax: eigenvalues, eigenvectors = numpy.linalg.eig()\n",
    "# Code:\n",
    "import numpy as np\n",
    "a = np.random.randint(0,9,(4,4))\n",
    "ev,evec = np.linalg.eig(a)\n",
    "print(a)\n",
    "print(\"Printing the Eigen values of the array:\\n\",ev)\n",
    "print(\"Printing the Eigen vectors of the array:\\n\",evec)"
   ]
  },
  {
   "cell_type": "markdown",
   "metadata": {},
   "source": [
    "# 2. Digitize()"
   ]
  },
  {
   "cell_type": "code",
   "execution_count": 15,
   "metadata": {},
   "outputs": [
    {
     "name": "stdout",
     "output_type": "stream",
     "text": [
      "Printing the array:\n",
      " [5 0 7 3 1]\n",
      "Printing the bin values array:\n",
      " [0, 2, 2, 5, 6, 6, 8]\n",
      "Printing the array holding the indices of all the values of bins:\n",
      " [4 1 6 3 1]\n"
     ]
    }
   ],
   "source": [
    "# Function: Return the indices of the bins to which each value in input array belongs.\n",
    "    #=========  =============  ============================\n",
    "    #`right`    order of bins  returned index `i` satisfies\n",
    "    #=========  =============  ============================\n",
    "    #``False``  increasing     ``bins[i-1] <= x < bins[i]``\n",
    "    #``True``   increasing     ``bins[i-1] < x <= bins[i]``\n",
    "    #``False``  decreasing     ``bins[i-1] > x >= bins[i]``\n",
    "    #``True``   decreasing     ``bins[i-1] >= x > bins[i]``\n",
    "    #=========  =============  ============================\n",
    "    #If values in `x` are beyond the bounds of `bins`, 0 or ``len(bins)`` is returned as appropriate.\n",
    "    # bin should be in increasing order.\n",
    "# Syntax: np.digitize(Array, Bin, Right=False)\n",
    "# Code:\n",
    "a = np.random.randint(0,9,5)\n",
    "b = sorted(np.random.randint(0,9,7))\n",
    "print(\"Printing the array:\\n\",a)\n",
    "print(\"Printing the bin values array:\\n\",b)\n",
    "c = np.digitize(a, b, right=False)\n",
    "print(\"Printing the array holding the indices of all the values of bins:\\n\",c)"
   ]
  },
  {
   "cell_type": "markdown",
   "metadata": {},
   "source": [
    "# 3. Repeat()"
   ]
  },
  {
   "cell_type": "code",
   "execution_count": 24,
   "metadata": {},
   "outputs": [
    {
     "name": "stdout",
     "output_type": "stream",
     "text": [
      "[[1 8 4]\n",
      " [6 3 0]\n",
      " [0 7 3]]\n",
      "Printing the array with repetation of 2 times and default setting for axis:\n",
      " [1 1 8 8 4 4 6 6 3 3 0 0 0 0 7 7 3 3]\n",
      "Printing the array with repetation of 2 times and axis = 0 (Row Wise):\n",
      " [[1 8 4]\n",
      " [1 8 4]\n",
      " [6 3 0]\n",
      " [6 3 0]\n",
      " [0 7 3]\n",
      " [0 7 3]]\n",
      "Printing the array with repetation of 2 times and axis = 1 (Column Wise):\n",
      " [[1 1 8 8 4 4]\n",
      " [6 6 3 3 0 0]\n",
      " [0 0 7 7 3 3]]\n"
     ]
    }
   ],
   "source": [
    "# Function: Repeats elements of the array\n",
    "    # repetitions = No. of repetitions of each array elements along the given axis\n",
    "    # axis= Axis along which we want to repeat values. By default, it returns a flat output array.\n",
    "# Syntax: numpy.repeat(arr, repetitions, axis = None)\n",
    "# Code:\n",
    "a = np.random.randint(0,9,(3,3))\n",
    "print(a)\n",
    "a_d = np.repeat(a, 2)\n",
    "print(\"Printing the array with repetation of 2 times and default setting for axis:\\n\",a_d)\n",
    "a_0 = np.repeat(a, 2, axis = 0)\n",
    "print(\"Printing the array with repetation of 2 times and axis = 0 (Row Wise):\\n\",a_0)\n",
    "a_1 = np.repeat(a, 2, axis = 1)\n",
    "print(\"Printing the array with repetation of 2 times and axis = 1 (Column Wise):\\n\",a_1)"
   ]
  },
  {
   "cell_type": "markdown",
   "metadata": {},
   "source": [
    "# 4. Squeeze()"
   ]
  },
  {
   "cell_type": "code",
   "execution_count": 38,
   "metadata": {},
   "outputs": [
    {
     "name": "stdout",
     "output_type": "stream",
     "text": [
      "Input array : \n",
      " [[[1 2 3 6 8]\n",
      "  [0 4 3 3 2]\n",
      "  [7 2 4 1 7]\n",
      "  [2 1 5 8 8]]]\n",
      "Shape of input array : \n",
      " (1, 4, 5)\n",
      "Output squeezed array : \n",
      " [[1 2 3 6 8]\n",
      " [0 4 3 3 2]\n",
      " [7 2 4 1 7]\n",
      " [2 1 5 8 8]]\n",
      "Shape of output squeezed array : \n",
      " (4, 5)\n"
     ]
    }
   ],
   "source": [
    "# Function: When we want to remove single-dimensional entries from the shape of an array.\n",
    "    # axis= Selects a subset of the single-dimensional entries in the shape. \n",
    "    #       If an axis is selected with shape entry greater than one, an error is raised.\n",
    "# Syntax: numpy.squeeze(arr, axis=None)\n",
    "# Code:\n",
    "a = np.random.randint(0,9,(1,4,5))\n",
    "print (\"Input array : \\n\", a)  \n",
    "print(\"Shape of input array : \\n\", a.shape)   \n",
    "b = np.squeeze(a, axis = 0)\n",
    "print(\"Output squeezed array : \\n\", b) \n",
    "print(\"Shape of output squeezed array : \\n\", b.shape)  "
   ]
  },
  {
   "cell_type": "markdown",
   "metadata": {},
   "source": [
    "# 5. Linspace()"
   ]
  },
  {
   "cell_type": "code",
   "execution_count": 3,
   "metadata": {},
   "outputs": [
    {
     "name": "stdout",
     "output_type": "stream",
     "text": [
      "Printing the array with endpoint = false \n",
      " (array([2. , 2.1, 2.2, 2.3, 2.4, 2.5, 2.6, 2.7, 2.8, 2.9]), 0.1)\n",
      "Printing the array with endpoint = true \n",
      " (array([2.        , 2.11111111, 2.22222222, 2.33333333, 2.44444444,\n",
      "       2.55555556, 2.66666667, 2.77777778, 2.88888889, 3.        ]), 0.1111111111111111)\n"
     ]
    }
   ],
   "source": [
    "# Function: Returns number spaced evenly with respect to interval\n",
    "# Syntax: numpy.linspace(start,stop,num = 50(it is a default value),endpoint = True,retstep = False, dtype = None)\n",
    "# Code:\n",
    "import numpy as np\n",
    "a = np.linspace(2.0, 3.0, 10, endpoint=False,retstep = True)\n",
    "print (\"Printing the array with endpoint = false \\n\", a)\n",
    "b = np.linspace(2.0, 3.0, 10, endpoint=True,retstep = True)\n",
    "print (\"Printing the array with endpoint = true \\n\", b)"
   ]
  },
  {
   "cell_type": "markdown",
   "metadata": {},
   "source": [
    "# 6. Clip()"
   ]
  },
  {
   "cell_type": "code",
   "execution_count": 5,
   "metadata": {},
   "outputs": [
    {
     "name": "stdout",
     "output_type": "stream",
     "text": [
      "Printing the array \n",
      " [0 1 2 3 4 5 6 7 8 9]\n",
      "Printing the clipped array with a sigle value for clipping \n",
      " [3 3 3 3 4 5 6 6 6 6]\n",
      "Printing the clipped array with a list for clipping \n",
      " [3 4 2 3 4 5 6 7 8 8]\n"
     ]
    }
   ],
   "source": [
    "# Function: Used to Limit the values in an array\n",
    "# Syntax: numpy.clip(a, a_min, a_max, out=None)\n",
    "# Code:\n",
    "a = np.arange(10)\n",
    "print (\"Printing the array \\n\", a)\n",
    "b = np.clip(a, 3, 6)\n",
    "print (\"Printing the clipped array with a sigle value for clipping \\n\", b)\n",
    "c = np.clip(a, [3, 4, 1, 1, 1, 4, 4, 4, 4, 4], 8)\n",
    "print (\"Printing the clipped array with a list for clipping \\n\", c)"
   ]
  },
  {
   "cell_type": "markdown",
   "metadata": {},
   "source": [
    "# 7. Extract()"
   ]
  },
  {
   "cell_type": "code",
   "execution_count": 6,
   "metadata": {},
   "outputs": [
    {
     "name": "stdout",
     "output_type": "stream",
     "text": [
      "[[3 0 8]\n",
      " [0 0 7]\n",
      " [4 3 1]]\n",
      "Array Condition: \n",
      " [[False  True  True]\n",
      " [ True  True False]\n",
      " [ True False False]]\n",
      "Elements that satisfy condition: \n",
      " [0 8 0 0 4]\n"
     ]
    }
   ],
   "source": [
    "# Function: Returns elements of input array if they satisfy some specified condition\n",
    "# Syntax: numpy.extract(condition, array)\n",
    "# Code: \n",
    "a = np.random.randint(0,9,(3,3))\n",
    "print(a)\n",
    "condition = np.mod(a, 2)==0\n",
    "print(\"Array Condition: \\n\", condition) \n",
    "b = np.extract(condition, a)\n",
    "print(\"Elements that satisfy condition: \\n\", b)"
   ]
  },
  {
   "cell_type": "markdown",
   "metadata": {},
   "source": [
    "# 8. Argpartition()"
   ]
  },
  {
   "cell_type": "code",
   "execution_count": 64,
   "metadata": {},
   "outputs": [
    {
     "name": "stdout",
     "output_type": "stream",
     "text": [
      "Printing the array \n",
      " [5 1 4 8 3]\n",
      "Printing the partitioned array indexes \n",
      " [1 4 2 0 3]\n",
      "Printing the partitioned array \n",
      " [1 3 4 5 8]\n"
     ]
    }
   ],
   "source": [
    "# Function: Used to create a indirect partitioned copy of input array with its elements rearranged in such a way \n",
    "           #that the value of the element in k-th position is in the position it would be in a sorted array. \n",
    "           #All elements smaller than the k-th element are moved before this element and \n",
    "           #all equal or greater are moved behind it. The ordering of the elements in the two partitions is undefined.\n",
    "           #It returns an array of indices of the same shape as input array\n",
    "# Syntax: numpy.argpartition(arr, kth, axis=-1, kind=’introselect’, order=None)\n",
    "# Code:\n",
    "a = np.random.randint(0,9,5)\n",
    "b = np.argpartition(a,3) \n",
    "print (\"Printing the array \\n\", a)\n",
    "print (\"Printing the partitioned array indexes \\n\", b)\n",
    "print (\"Printing the partitioned array \\n\",a[b])"
   ]
  },
  {
   "cell_type": "markdown",
   "metadata": {},
   "source": [
    "# 9. Setdiff1d()"
   ]
  },
  {
   "cell_type": "code",
   "execution_count": 7,
   "metadata": {},
   "outputs": [
    {
     "name": "stdout",
     "output_type": "stream",
     "text": [
      "Printing the array a \n",
      " [[6 4 4]\n",
      " [2 1 3]\n",
      " [1 4 0]]\n",
      "Printing the array b \n",
      " [[2 8 1]\n",
      " [4 8 0]\n",
      " [5 4 2]]\n",
      "Printing the array of unique values in a\n",
      " [3 6]\n"
     ]
    }
   ],
   "source": [
    "# Function: Find the set difference of two arrays. Return the unique values in ar1 that are not in ar2.\n",
    "            #assume_unique --> If True, the input arrays are both assumed to be unique, which can speed up the calculation. \n",
    "                               #Default is False.\n",
    "# Syntax: numpy.setdiff1d(arr1, arr2, assume_unique = False)\n",
    "# Code:\n",
    "import numpy as np\n",
    "a = np.random.randint(0,9,(3,3))\n",
    "print (\"Printing the array a \\n\", a)\n",
    "b = np.random.randint(0,9,(3,3)) \n",
    "print (\"Printing the array b \\n\", b)\n",
    "d_a_b = np.setdiff1d(a, b) \n",
    "print (\"Printing the array of unique values in a\\n\", d_a_b) "
   ]
  },
  {
   "cell_type": "markdown",
   "metadata": {},
   "source": [
    "# 10. Itemsize"
   ]
  },
  {
   "cell_type": "code",
   "execution_count": 15,
   "metadata": {},
   "outputs": [
    {
     "name": "stdout",
     "output_type": "stream",
     "text": [
      "Printing the array a \n",
      " [[0. 6. 6.]\n",
      " [8. 1. 2.]\n",
      " [8. 3. 6.]]\n",
      "Length of one array element in bytes of array a is \n",
      " 8\n",
      "Printing the array b \n",
      " [[6.+0.j 6.+0.j 3.+0.j]\n",
      " [6.+0.j 6.+0.j 2.+0.j]\n",
      " [5.+0.j 0.+0.j 8.+0.j]]\n",
      "Length of one array element in bytes of array b is \n",
      " 16\n"
     ]
    }
   ],
   "source": [
    "# Function: Return the length of one array element in bytes\n",
    "# Syntax: numpy.ndarray.itemsize(arr)\n",
    "# Code:\n",
    "a = np.array(np.random.randint(0,9,(3,3)), dtype=np.float64)\n",
    "print (\"Printing the array a \\n\", a)\n",
    "print (\"Length of one array element in bytes of array a is \\n\", a.itemsize)\n",
    "b = np.array(np.random.randint(0,9,(3,3)), dtype=np.complex128)\n",
    "print (\"Printing the array b \\n\", b)\n",
    "print (\"Length of one array element in bytes of array b is \\n\", b.itemsize)"
   ]
  },
  {
   "cell_type": "markdown",
   "metadata": {},
   "source": [
    "# 11. Hstack()"
   ]
  },
  {
   "cell_type": "code",
   "execution_count": 16,
   "metadata": {},
   "outputs": [
    {
     "name": "stdout",
     "output_type": "stream",
     "text": [
      "Printing the array a \n",
      " [[8 5 4]\n",
      " [8 3 2]\n",
      " [1 5 6]]\n",
      "Printing the array b \n",
      " [[7 7 8]\n",
      " [4 0 2]\n",
      " [5 3 5]]\n",
      "Printing the hstacked array \n",
      " [[8 5 4 7 7 8]\n",
      " [8 3 2 4 0 2]\n",
      " [1 5 6 5 3 5]]\n"
     ]
    }
   ],
   "source": [
    "# Function: Stack arrays in sequence horizontally (column wise)\n",
    "# Syntax: numpy.hstack(tup)\n",
    "# Code:\n",
    "a = np.random.randint(0,9,(3,3))\n",
    "print (\"Printing the array a \\n\", a)\n",
    "b = np.random.randint(0,9,(3,3))\n",
    "print (\"Printing the array b \\n\", b)\n",
    "c = np.hstack((a,b))\n",
    "print (\"Printing the hstacked array \\n\", c)"
   ]
  },
  {
   "cell_type": "markdown",
   "metadata": {},
   "source": [
    "# 12. Vstack()"
   ]
  },
  {
   "cell_type": "code",
   "execution_count": 18,
   "metadata": {},
   "outputs": [
    {
     "name": "stdout",
     "output_type": "stream",
     "text": [
      "Printing the array a \n",
      " [[6 7 7]\n",
      " [2 2 6]\n",
      " [0 4 6]]\n",
      "Printing the array b \n",
      " [[1 7 5]\n",
      " [3 8 6]\n",
      " [7 2 3]]\n",
      "Printing the vstacked array \n",
      " [[6 7 7]\n",
      " [2 2 6]\n",
      " [0 4 6]\n",
      " [1 7 5]\n",
      " [3 8 6]\n",
      " [7 2 3]]\n"
     ]
    }
   ],
   "source": [
    "# Function: Stack arrays in sequence verically (row wise)\n",
    "# Syntax: numpy.vstack(tup)\n",
    "# Code:\n",
    "a = np.random.randint(0,9,(3,3))\n",
    "print (\"Printing the array a \\n\", a)\n",
    "b = np.random.randint(0,9,(3,3))\n",
    "print (\"Printing the array b \\n\", b)\n",
    "c = np.vstack((a,b))\n",
    "print (\"Printing the vstacked array \\n\", c)"
   ]
  },
  {
   "cell_type": "markdown",
   "metadata": {},
   "source": [
    "# 13. Hsplit()"
   ]
  },
  {
   "cell_type": "code",
   "execution_count": 23,
   "metadata": {},
   "outputs": [
    {
     "name": "stdout",
     "output_type": "stream",
     "text": [
      "Printing the array a \n",
      " [[6 4 8 0]\n",
      " [1 4 3 2]\n",
      " [0 1 0 1]\n",
      " [0 2 4 8]]\n",
      "Printing the hsplited array \n",
      " [array([[6, 4],\n",
      "       [1, 4],\n",
      "       [0, 1],\n",
      "       [0, 2]]), array([[8, 0],\n",
      "       [3, 2],\n",
      "       [0, 1],\n",
      "       [4, 8]])]\n"
     ]
    }
   ],
   "source": [
    "# Function: function split an array into multiple sub-arrays horizontally (column-wise) equally. \n",
    "            #hsplit is equivalent to split with axis=1, \n",
    "            #the array is always split along the second axis regardless of the array dimension.\n",
    "# Syntax: numpy.hsplit(arr, indices_or_sections)\n",
    "# Code:\n",
    "a = np.random.randint(0,9,(4,4))\n",
    "print (\"Printing the array a \\n\", a)\n",
    "b = np.hsplit(a, 2)\n",
    "print (\"Printing the hsplited array \\n\", b)"
   ]
  },
  {
   "cell_type": "markdown",
   "metadata": {},
   "source": [
    "# 14. Vsplit()"
   ]
  },
  {
   "cell_type": "code",
   "execution_count": 24,
   "metadata": {},
   "outputs": [
    {
     "name": "stdout",
     "output_type": "stream",
     "text": [
      "Printing the array a \n",
      " [[7 1 5 4]\n",
      " [5 5 1 5]\n",
      " [3 8 5 6]\n",
      " [6 5 4 3]]\n",
      "Printing the vsplited array \n",
      " [array([[7, 1, 5, 4],\n",
      "       [5, 5, 1, 5]]), array([[3, 8, 5, 6],\n",
      "       [6, 5, 4, 3]])]\n"
     ]
    }
   ],
   "source": [
    "# Function: function split an array into multiple sub-arrays horizontally (column-wise) equally. \n",
    "            #hsplit is equivalent to split with axis=0, \n",
    "            #the array is always split along the first axis regardless of the array dimension.\n",
    "# Syntax: numpy.vsplit(arr, indices_or_sections)\n",
    "# Code:\n",
    "a = np.random.randint(0,9,(4,4))\n",
    "print (\"Printing the array a \\n\", a)\n",
    "b = np.vsplit(a, 2)\n",
    "print (\"Printing the vsplited array \\n\", b)"
   ]
  },
  {
   "cell_type": "markdown",
   "metadata": {},
   "source": [
    "# 15. View vs Shallow Copy"
   ]
  },
  {
   "cell_type": "code",
   "execution_count": 26,
   "metadata": {},
   "outputs": [
    {
     "name": "stdout",
     "output_type": "stream",
     "text": [
      "Printing the array a \n",
      " [[0 6 7]\n",
      " [5 3 8]\n",
      " [1 6 1]]\n",
      "id of a \n",
      " 62139872\n",
      "Printing the viwed array b \n",
      " [[0 6 7]\n",
      " [5 3 8]\n",
      " [1 6 1]]\n",
      "id of b \n",
      " 62107800\n",
      "Printing the new array a \n",
      " [[12  6  7]\n",
      " [ 5  3  8]\n",
      " [ 1  6  1]]\n",
      "Printing the new viewed array b \n",
      " [[12  6  7]\n",
      " [ 5  3  8]\n",
      " [ 1  6  1]]\n"
     ]
    }
   ],
   "source": [
    "# Function: The view is just a view of the original array and view does not own the data. \n",
    "            #When we make changes to the view it affects the original array, \n",
    "            #and when changes are made to the original array it affects the view\n",
    "            #Both have different ids\n",
    "# Syntax: arr.view()\n",
    "# Code:\n",
    "a = np.random.randint(0,9,(3,3))\n",
    "print (\"Printing the array a \\n\", a)\n",
    "print(\"id of a \\n\", id(a))\n",
    "b = a.view()\n",
    "print (\"Printing the viwed array b \\n\", b)\n",
    "print(\"id of b \\n\", id(b))\n",
    "a[0,0] = 12\n",
    "print(\"Printing the new array a \\n\", a) \n",
    "print(\"Printing the new viewed array b \\n\", b) "
   ]
  },
  {
   "cell_type": "markdown",
   "metadata": {},
   "source": [
    "# 16. Deep Copy"
   ]
  },
  {
   "cell_type": "code",
   "execution_count": 27,
   "metadata": {},
   "outputs": [
    {
     "name": "stdout",
     "output_type": "stream",
     "text": [
      "Printing the array a \n",
      " [[4 8 5]\n",
      " [4 3 0]\n",
      " [0 6 1]]\n",
      "id of a \n",
      " 61817264\n",
      "Printing the copied array b \n",
      " [[4 8 5]\n",
      " [4 3 0]\n",
      " [0 6 1]]\n",
      "id of b \n",
      " 62107960\n",
      "Printing the new array a \n",
      " [[12  8  5]\n",
      " [ 4  3  0]\n",
      " [ 0  6  1]]\n",
      "Printing the original copied array b \n",
      " [[4 8 5]\n",
      " [4 3 0]\n",
      " [0 6 1]]\n"
     ]
    }
   ],
   "source": [
    "# Function: The copy is completely a new array and copy owns the data. \n",
    "            #When we make changes to the copy it does not affect the original array, \n",
    "            #and when changes are made to the original array it does not affect the copy.\n",
    "            #Both have different ids\n",
    "# Syntax: arr.copy()\n",
    "# Code:\n",
    "a = np.random.randint(0,9,(3,3))\n",
    "print (\"Printing the array a \\n\", a)\n",
    "print(\"id of a \\n\", id(a))\n",
    "b = a.copy()\n",
    "print (\"Printing the copied array b \\n\", b)\n",
    "print(\"id of b \\n\", id(b))\n",
    "a[0,0] = 12\n",
    "print(\"Printing the new array a \\n\", a) \n",
    "print(\"Printing the original copied array b \\n\", b) "
   ]
  },
  {
   "cell_type": "markdown",
   "metadata": {},
   "source": [
    "# 17. Copy() and Deepcopy()"
   ]
  },
  {
   "cell_type": "code",
   "execution_count": 33,
   "metadata": {},
   "outputs": [
    {
     "name": "stdout",
     "output_type": "stream",
     "text": [
      "Printing the array a \n",
      " [1 'm' list([2, 3, 4])]\n",
      "Printing the shallowed array b \n",
      " [1 'm' list([2, 3, 4])]\n",
      "Printing the new array a \n",
      " [1 'm' list([10, 3, 4])]\n",
      "Printing the new shallowed array b \n",
      " [1 'm' list([10, 3, 4])]\n",
      "Printing the new array a \n",
      " [1 'm' list([10, 3, 4])]\n",
      "Printing the new shallowed array b \n",
      " [10 'm' list([10, 3, 4])]\n",
      "Printing the array a \n",
      " [5 'k' list([4, 8, 9])]\n",
      "Printing the shallowed array b \n",
      " [5 'k' list([4, 8, 9])]\n",
      "Printing the new array a \n",
      " [5 'k' list([4, 8, 9])]\n",
      "Printing the new deepcopied array b \n",
      " [10 'k' list([10, 8, 9])]\n"
     ]
    }
   ],
   "source": [
    "#COPY()\n",
    "# Function: Function is a shallow copy and will not copy object elements within arrays. \n",
    "            #This is mainly important for arrays containing Python objects. \n",
    "            #The new array will contain the same object which may lead to surprises if that object can be modified.\n",
    "# Syntax: numpy.copy()\n",
    "# Code:\n",
    "import numpy as np\n",
    "a = np.array([1, 'm', [2, 3, 4]], dtype=object)\n",
    "print (\"Printing the array a \\n\", a)\n",
    "b = np.copy(a)\n",
    "print (\"Printing the shallowed array b \\n\", b)\n",
    "# Object element within array is mutable i.e. change will reflect in both arrays\n",
    "b[2][0] = 10\n",
    "print (\"Printing the new array a \\n\", a)\n",
    "print (\"Printing the new shallowed array b \\n\", b)\n",
    "# Principle Object element is immutable i.e. change will reflect in copied array only\n",
    "b[0] = 10\n",
    "print (\"Printing the new array a \\n\", a)\n",
    "print (\"Printing the new shallowed array b \\n\", b)\n",
    "\n",
    "#DEEPCOPY()\n",
    "#Function: To ensure all elements within an object array are copied\n",
    "#Syntax: copy.deepcopy\n",
    "#Code:\n",
    "import copy\n",
    "c = np.array([5, 'k', [4, 8, 9]], dtype=object)\n",
    "print (\"Printing the array a \\n\", c)\n",
    "d = copy.deepcopy(c)\n",
    "print (\"Printing the shallowed array b \\n\", d)\n",
    "#All the object element within array are immutable i.e. change will reflect in copied array only\n",
    "d[2][0] = 10\n",
    "d[0] = 10\n",
    "print (\"Printing the new array a \\n\", c)\n",
    "print (\"Printing the new deepcopied array b \\n\", d)"
   ]
  },
  {
   "cell_type": "markdown",
   "metadata": {},
   "source": [
    "# 18. Meshgrid()"
   ]
  },
  {
   "cell_type": "code",
   "execution_count": 63,
   "metadata": {},
   "outputs": [
    {
     "name": "stdout",
     "output_type": "stream",
     "text": [
      "Printing X-axis coordinates \n",
      " [[-1.  -0.5  0.   0.5  1. ]\n",
      " [-1.  -0.5  0.   0.5  1. ]\n",
      " [-1.  -0.5  0.   0.5  1. ]\n",
      " [-1.  -0.5  0.   0.5  1. ]]\n",
      "Printing Y-axis coordinates \n",
      " [[-1.         -1.         -1.         -1.         -1.        ]\n",
      " [-0.33333333 -0.33333333 -0.33333333 -0.33333333 -0.33333333]\n",
      " [ 0.33333333  0.33333333  0.33333333  0.33333333  0.33333333]\n",
      " [ 1.          1.          1.          1.          1.        ]]\n",
      "Printing matrix of coordinates \n",
      " [[-1.         -1.        ]\n",
      " [-1.         -0.33333333]\n",
      " [-1.          0.33333333]\n",
      " [-1.          1.        ]\n",
      " [-0.5        -1.        ]\n",
      " [-0.5        -0.33333333]\n",
      " [-0.5         0.33333333]\n",
      " [-0.5         1.        ]\n",
      " [ 0.         -1.        ]\n",
      " [ 0.         -0.33333333]\n",
      " [ 0.          0.33333333]\n",
      " [ 0.          1.        ]\n",
      " [ 0.5        -1.        ]\n",
      " [ 0.5        -0.33333333]\n",
      " [ 0.5         0.33333333]\n",
      " [ 0.5         1.        ]\n",
      " [ 1.         -1.        ]\n",
      " [ 1.         -0.33333333]\n",
      " [ 1.          0.33333333]\n",
      " [ 1.          1.        ]]\n"
     ]
    }
   ],
   "source": [
    "# Function: Return coordinate matrices from coordinate vectors.\n",
    "# Syntax: numpy.vsplit(arr, indices_or_sections)\n",
    "# Code:\n",
    "x = np.linspace(-1, 1, 5)\n",
    "y = np.linspace(-1, 1, 4)\n",
    "xa, ya = np.meshgrid(x, y)\n",
    "print('Printing X-axis coordinates \\n', xa)\n",
    "print('Printing Y-axis coordinates \\n',ya)\n",
    "x_y = np.array([xa,ya]).T.reshape(-1, 2)\n",
    "print('Printing matrix of coordinates \\n', x_y)"
   ]
  },
  {
   "cell_type": "markdown",
   "metadata": {},
   "source": [
    "# 19. Swapaxes()"
   ]
  },
  {
   "cell_type": "code",
   "execution_count": 75,
   "metadata": {},
   "outputs": [
    {
     "name": "stdout",
     "output_type": "stream",
     "text": [
      "Printing array a \n",
      " [[2 6 7]\n",
      " [6 0 3]\n",
      " [7 6 5]]\n",
      "Printing array b \n",
      " [[2 6 7]\n",
      " [6 0 6]\n",
      " [7 3 5]]\n"
     ]
    }
   ],
   "source": [
    "# Function: Function interchange two axes of an array\n",
    "# Syntax: numpy.swapaxes(arr, axis1, axis2)\n",
    "# Code:\n",
    "a = np.random.randint(0,9,(3,3))\n",
    "b = np.swapaxes(a, 0, 1) \n",
    "print ('Printing array a \\n', a) \n",
    "print ('Printing array b \\n', b)"
   ]
  },
  {
   "cell_type": "markdown",
   "metadata": {},
   "source": [
    "# 20. Column_stack()"
   ]
  },
  {
   "cell_type": "code",
   "execution_count": 77,
   "metadata": {},
   "outputs": [
    {
     "name": "stdout",
     "output_type": "stream",
     "text": [
      "Printing the array a \n",
      " [[8 6 5]\n",
      " [3 4 0]\n",
      " [0 0 4]]\n",
      "Printing the array b \n",
      " [[4 8 1]\n",
      " [3 8 3]\n",
      " [4 6 3]]\n",
      "Printing the column stacked array \n",
      " [[8 6 5 4 8 1]\n",
      " [3 4 0 3 8 3]\n",
      " [0 0 4 4 6 3]]\n"
     ]
    }
   ],
   "source": [
    "# Function: function is used to stack 1-D arrays as columns into a 2-D array.\n",
    "            #It takes a sequence of 1-D arrays and stack them as columns to make a single 2-D array.\n",
    "# Syntax: numpy.column_stack()\n",
    "# Code:\n",
    "a = np.random.randint(0,9,(3,3))\n",
    "print (\"Printing the array a \\n\", a)\n",
    "b = np.random.randint(0,9,(3,3))\n",
    "print (\"Printing the array b \\n\", b)\n",
    "c = np.column_stack((a,b))\n",
    "print (\"Printing the column stacked array \\n\", c)"
   ]
  }
 ],
 "metadata": {
  "kernelspec": {
   "display_name": "Python 3",
   "language": "python",
   "name": "python3"
  },
  "language_info": {
   "codemirror_mode": {
    "name": "ipython",
    "version": 3
   },
   "file_extension": ".py",
   "mimetype": "text/x-python",
   "name": "python",
   "nbconvert_exporter": "python",
   "pygments_lexer": "ipython3",
   "version": "3.7.1"
  }
 },
 "nbformat": 4,
 "nbformat_minor": 2
}
